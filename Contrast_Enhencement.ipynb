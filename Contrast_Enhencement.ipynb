{
 "cells": [
  {
   "cell_type": "code",
   "execution_count": 1,
   "metadata": {},
   "outputs": [],
   "source": [
    "%matplotlib inline\n",
    "from matplotlib import image\n",
    "import numpy as np\n",
    "import matplotlib.pyplot as plt\n",
    "import time\n",
    "import scipy.ndimage as sn"
   ]
  },
  {
   "cell_type": "code",
   "execution_count": 2,
   "metadata": {},
   "outputs": [],
   "source": [
    "image1 = plt.imread(\"church.JPG\")"
   ]
  },
  {
   "cell_type": "code",
   "execution_count": 3,
   "metadata": {},
   "outputs": [],
   "source": [
    "def enhancement(im,alpha = 1.1,gamma=5/255,delta=5/255,lambda_e=0.005,tol = 1e-5,maxiter=1000,S=[0,255]):\n",
    "    a,b,channel = im.shape ##圖片大小\n",
    "    ##用於差分\n",
    "    imu = np.array([0]+[i for i in range(a-1)])\n",
    "    imd = np.array([i+1 for i in range(a-1)]+[a-1])\n",
    "    iml = np.array([0]+[i for i in range(b-1)])\n",
    "    imr = np.array([i+1 for i in range(b-1)]+[b-1])\n",
    "    Lambda = lambda_e/gamma\n",
    "    Delta = delta/gamma;\n",
    "    beta = 3*alpha\n",
    "    ##3 channel\n",
    "    rc,gc,bc = im[:,:,0],im[:,:,1],im[:,:,2]\n",
    "    fmax = np.where(np.where(rc<gc, gc,rc)<bc , bc ,np.where(rc<gc,gc,rc))##a function\n",
    "    fmax_bar = np.mean(fmax)\n",
    "    omega_d = fmax<=fmax_bar ##暗部\n",
    "    omega_b = fmax>fmax_bar ##亮部\n",
    "    img=[]\n",
    "    start = time.time()\n",
    "    for k in range(channel):\n",
    "        ##initial condition\n",
    "        fk = im[:,:,k]\n",
    "        uk = fk\n",
    "        v = uk\n",
    "        bx = np.zeros([a,b])\n",
    "        by = np.zeros([a,b])\n",
    "        dx = np.zeros([a,b])\n",
    "        dy = np.zeros([a,b])\n",
    "        c = np.zeros([a,b])\n",
    "        ##gradient f\n",
    "        fxd = np.concatenate((np.diff(fk,1,1), np.zeros([a,1])),axis=1);\n",
    "        fyd = np.concatenate((np.diff(fk,1,0),np.zeros([1,b])));\n",
    "        ##g function brighter\n",
    "        fbar = np.mean(fk);\n",
    "        g = omega_d*(alpha*fbar)+omega_b*fk\n",
    "        \n",
    "        ##h function control contrast-level\n",
    "        ##convolutuion using gaussian filter to make h smooth\n",
    "        sigma =4.6\n",
    "        w = 2*sigma+1.0\n",
    "        t = float((((w - 1)/2)-0.5)/5)\n",
    "        h = sn.gaussian_filter((beta*omega_d + omega_b),sigma=sigma,mode ='constant',truncate=t) \n",
    "        ##to compute grad h\n",
    "        fk = fk*h\n",
    "        fx = np.concatenate((np.diff(fk,1,1), np.zeros([a,1])),axis=1);\n",
    "        fy = np.concatenate((np.diff(fk,1,0),np.zeros([1,b])));\n",
    "        fx[omega_b] = fxd[omega_b]\n",
    "        fy[omega_b] = fyd[omega_b]\n",
    "\n",
    "        it = 0;  #interative times\n",
    "        error = 10000;  #relative error\n",
    "        while it < maxiter and error >= tol :\n",
    "            ##u-subproblem\n",
    "            d_f_bx = dx+fx-bx;\n",
    "            d_f_by = dy+fy-by;\n",
    "            up = uk\n",
    "            uk = (Lambda*g - d_f_bx - d_f_by \\\n",
    "                     +np.concatenate((np.zeros([a,1]),d_f_bx[:,0:b-1]),axis=1)\\\n",
    "                     +np.concatenate((np.zeros([1,b]),d_f_by[0:a-1,:])) +Delta*(v-c)\\\n",
    "                     + uk[imd,:] + uk[:,iml] + uk[:,imr]+uk[imu,:] + 4*uk) /(Lambda+Delta+8)\n",
    "\n",
    "            ##d-subproblem\n",
    "               \n",
    "            ux = np.concatenate((np.diff(uk,1,1), np.zeros([a,1])),axis=1);\n",
    "            uy = np.concatenate((np.diff(uk,1,0),np.zeros([1,b])));\n",
    "            dx = ((ux - fx) + bx)*gamma/(gamma+1);\n",
    "            dy = ((uy - fy) + by)*gamma/(gamma+1);\n",
    "            \n",
    "            ##v-subproblem\n",
    "            v = uk+c\n",
    "            v[v<S[0]] = S[0]\n",
    "            v[v>S[1]] = S[1]\n",
    "            \n",
    "            ##updating b c\n",
    "            bx = bx + (ux - fx) - dx;\n",
    "            by = by + (uy - fy) - dy;   \n",
    "            c  = c  + uk - v;\n",
    "            \n",
    "            #relative error\n",
    "            error =np.sum((uk-up)*(uk-up))/np.sum(up*up)\n",
    "            it = it + 1;\n",
    "        print(\"Iteration%d complete!!\"%(k+1))\n",
    "        print(\"Iteration :\",it)\n",
    "        img.append(uk)\n",
    "    end = time.time()\n",
    "    print(round(end-start,1),\"sec\")\n",
    "    return img"
   ]
  },
  {
   "cell_type": "code",
   "execution_count": null,
   "metadata": {},
   "outputs": [
    {
     "name": "stdout",
     "output_type": "stream",
     "text": [
      "Iteration1 complete!!\n",
      "Iteration : 51\n"
     ]
    }
   ],
   "source": [
    "img = enhancement(image1/1.0)"
   ]
  },
  {
   "cell_type": "code",
   "execution_count": null,
   "metadata": {},
   "outputs": [],
   "source": [
    "new_image = np.dstack((img[0],img[1],img[2]))/255"
   ]
  },
  {
   "cell_type": "code",
   "execution_count": null,
   "metadata": {},
   "outputs": [],
   "source": [
    "fig = plt.figure(figsize = (15,15))\n",
    "ax1 = fig.add_subplot(121)\n",
    "ax2 = fig.add_subplot(122)\n",
    "ax1.imshow(image1)\n",
    "ax1.title.set_text(\"Original Image\")\n",
    "ax2.imshow(new_image)\n",
    "ax2.title.set_text(\"Clear Image\")"
   ]
  },
  {
   "cell_type": "code",
   "execution_count": null,
   "metadata": {},
   "outputs": [],
   "source": []
  }
 ],
 "metadata": {
  "kernelspec": {
   "display_name": "Python 3",
   "language": "python",
   "name": "python3"
  },
  "language_info": {
   "codemirror_mode": {
    "name": "ipython",
    "version": 3
   },
   "file_extension": ".py",
   "mimetype": "text/x-python",
   "name": "python",
   "nbconvert_exporter": "python",
   "pygments_lexer": "ipython3",
   "version": "3.6.5"
  }
 },
 "nbformat": 4,
 "nbformat_minor": 2
}
